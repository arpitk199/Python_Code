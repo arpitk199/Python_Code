{
 "cells": [
  {
   "cell_type": "code",
   "execution_count": null,
   "metadata": {},
   "outputs": [],
   "source": [
    "num1 = int(input(\"Enter your First number :\"))\n",
    "num2 = int(input(\"Enter your Second number :\"))\n",
    "operation = (input(\"Enter your Operation +,-,/,* :\"))\n",
    "\n",
    "if operation == \"+\":\n",
    "    print(num1, \"+\" ,num2, \"=\",num1+num2)\n",
    "elif operation == \"-\":\n",
    "    print(num1, \"-\" ,num2, \"=\",num1-num2)\n",
    "elif operation == \"/\":\n",
    "    print(num1, \"/\" ,num2, \"=\",num1/num2)\n",
    "elif operation == \"*\":\n",
    "    print(num1, \"*\" ,num2, \"=\",num1*num2)\n",
    "else:\n",
    "    print(\"Please Enter Correct Operation :\")"
   ]
  }
 ],
 "metadata": {
  "kernelspec": {
   "display_name": "Python 3",
   "language": "python",
   "name": "python3"
  },
  "language_info": {
   "name": "python",
   "version": "3.9.4 (tags/v3.9.4:1f2e308, Apr  6 2021, 13:40:21) [MSC v.1928 64 bit (AMD64)]"
  },
  "orig_nbformat": 4,
  "vscode": {
   "interpreter": {
    "hash": "f85602ad7554ff4e01ddc9df6ddcaa249c7c8287d0f6830c0cc5c48008c19685"
   }
  }
 },
 "nbformat": 4,
 "nbformat_minor": 2
}
