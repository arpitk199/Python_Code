{
 "cells": [
  {
   "cell_type": "code",
   "execution_count": 5,
   "metadata": {},
   "outputs": [
    {
     "name": "stdout",
     "output_type": "stream",
     "text": [
      "1 2 3 4 5 6 7 8 9 10 11 12 13 14 15 16 17 18 19 20 21 22 23 24 25 26 27 28 29 30 31 32 33 34 35 36 37 38 39 40 41 42 43 44 45 46 47 48 49 50 51 52 53 54 55 56 57 58 59 60 61 62 63 64 65 66 67 68 69 70 71 72 73 74 75 76 77 78 79 80 81 82 83 84 85 86 87 88 89 90 91 92 93 94 95 96 97 98 99 100 "
     ]
    }
   ],
   "source": [
    "#1. counting\n",
    "i = 1\n",
    "while i<101:\n",
    "    print(i, end=\" \")\n",
    "    i=i+1"
   ]
  },
  {
   "cell_type": "code",
   "execution_count": 12,
   "metadata": {},
   "outputs": [
    {
     "name": "stdout",
     "output_type": "stream",
     "text": [
      "The Multiplication table of : 12\n",
      "12 x 1 = 12\n",
      "12 x 2 = 24\n",
      "12 x 3 = 36\n",
      "12 x 4 = 48\n",
      "12 x 5 = 60\n",
      "12 x 6 = 72\n",
      "12 x 7 = 84\n",
      "12 x 8 = 96\n",
      "12 x 9 = 108\n",
      "12 x 10 = 120\n"
     ]
    }
   ],
   "source": [
    "#2. Multiplication table\n",
    "number = int(input(\"Enter the number to print Multiplication table\"))\n",
    "count = 1\n",
    "print(\"The Multiplication table of :\", number)\n",
    "while count <= 10:\n",
    "    print(number, \"x\", count, \"=\", number*count )\n",
    "    count=count+1"
   ]
  },
  {
   "cell_type": "code",
   "execution_count": 25,
   "metadata": {},
   "outputs": [
    {
     "name": "stdout",
     "output_type": "stream",
     "text": [
      "1 ** 1 = 1\n",
      "2 ** 2 = 4\n",
      "3 ** 3 = 9\n",
      "4 ** 4 = 16\n",
      "5 ** 5 = 25\n",
      "6 ** 6 = 36\n",
      "7 ** 7 = 49\n",
      "8 ** 8 = 64\n",
      "9 ** 9 = 81\n",
      "10 ** 10 = 100\n"
     ]
    }
   ],
   "source": [
    "#3. write a program to print squer\n",
    "number = int(input(\"Enter the number to print squre\"))\n",
    "count = 1\n",
    "while count <= 10:\n",
    "    print(number,\"**\",number, \"=\", number**2)\n",
    "    count=count+1\n",
    "    number=number+1"
   ]
  },
  {
   "cell_type": "code",
   "execution_count": 32,
   "metadata": {},
   "outputs": [
    {
     "name": "stdout",
     "output_type": "stream",
     "text": [
      "Hello World\n",
      "Hello World\n",
      "Hello World\n",
      "Hello World\n",
      "Hello World\n",
      "Hello World\n",
      "Hello World\n",
      "Hello World\n",
      "Hello World\n",
      "Hello World\n"
     ]
    }
   ],
   "source": [
    "# 4. write hello world 10 times\n",
    "i = 1\n",
    "while i <= 10:\n",
    "    print(\"Hello World\")\n",
    "    i+=1"
   ]
  },
  {
   "cell_type": "code",
   "execution_count": 37,
   "metadata": {},
   "outputs": [
    {
     "name": "stdout",
     "output_type": "stream",
     "text": [
      "10 20 30 40 50 60 70 80 90 100 110 120 130 140 150 160 170 180 190 200 210 220 230 240 250 260 270 280 290 300 "
     ]
    }
   ],
   "source": [
    "i = 10\n",
    "while i<=301:\n",
    "    print(i, end=\" \")\n",
    "    i=i+10"
   ]
  },
  {
   "cell_type": "code",
   "execution_count": 40,
   "metadata": {},
   "outputs": [
    {
     "name": "stdout",
     "output_type": "stream",
     "text": [
      "0 2 4 6 8 10 "
     ]
    }
   ],
   "source": [
    "# Even number\n",
    "i = 0\n",
    "while i<=11:\n",
    "    print(i, end=\" \")\n",
    "    i=i+2"
   ]
  },
  {
   "cell_type": "code",
   "execution_count": 41,
   "metadata": {},
   "outputs": [
    {
     "name": "stdout",
     "output_type": "stream",
     "text": [
      "1 3 5 7 9 11 "
     ]
    }
   ],
   "source": [
    "# odd number\n",
    "i = 1\n",
    "while i<=11:\n",
    "    print(i, end=\" \")\n",
    "    i=i+2"
   ]
  },
  {
   "cell_type": "code",
   "execution_count": 44,
   "metadata": {},
   "outputs": [
    {
     "name": "stdout",
     "output_type": "stream",
     "text": [
      "0 1 2 3 4 5 6 7 8 9 "
     ]
    }
   ],
   "source": [
    "# natural number\n",
    "i = 0\n",
    "while i<10:\n",
    "    print(i, end=\" \")\n",
    "    i=i+1"
   ]
  },
  {
   "cell_type": "code",
   "execution_count": 47,
   "metadata": {},
   "outputs": [
    {
     "name": "stdout",
     "output_type": "stream",
     "text": [
      "105 98 91 84 77 70 63 56 49 42 35 28 21 14 7 "
     ]
    }
   ],
   "source": [
    "# Write a while loop program tp print the following series 105 98 91 84 77 70 63 56 49 42 35 28 21 14 7 \n",
    "i = 105\n",
    "while i>=7:\n",
    "    print(i, end=\" \")\n",
    "    i=i-7"
   ]
  },
  {
   "cell_type": "code",
   "execution_count": 53,
   "metadata": {},
   "outputs": [
    {
     "name": "stdout",
     "output_type": "stream",
     "text": [
      "9 8 7 6 5 4 3 2 1 0 "
     ]
    }
   ],
   "source": [
    "# write a program to print first 10 natural number in revers order using while loop\n",
    "i = 9\n",
    "while i>=0:\n",
    "    print(i, end=\" \")\n",
    "    i=i-1"
   ]
  },
  {
   "cell_type": "code",
   "execution_count": 58,
   "metadata": {},
   "outputs": [
    {
     "name": "stdout",
     "output_type": "stream",
     "text": [
      "sum of : 0 + 0 = 0\n",
      "sum of : 1 + 1 = 2\n",
      "sum of : 2 + 2 = 4\n",
      "sum of : 3 + 3 = 6\n",
      "sum of : 4 + 4 = 8\n",
      "sum of : 5 + 5 = 10\n",
      "sum of : 6 + 6 = 12\n",
      "sum of : 7 + 7 = 14\n",
      "sum of : 8 + 8 = 16\n",
      "sum of : 9 + 9 = 18\n"
     ]
    }
   ],
   "source": [
    "# write a program to print sum of first 10 Natural numbers \n",
    "i = 0\n",
    "while i<10:\n",
    "    print(\"sum of :\",i,\"+\",i,\"=\", i+i)\n",
    "    i=i+1"
   ]
  },
  {
   "cell_type": "code",
   "execution_count": 62,
   "metadata": {},
   "outputs": [
    {
     "name": "stdout",
     "output_type": "stream",
     "text": [
      "sum of : 0 + 0 = 0\n",
      "sum of : 2 + 2 = 4\n",
      "sum of : 4 + 4 = 8\n",
      "sum of : 6 + 6 = 12\n",
      "sum of : 8 + 8 = 16\n",
      "sum of : 10 + 10 = 20\n",
      "sum of : 12 + 12 = 24\n",
      "sum of : 14 + 14 = 28\n",
      "sum of : 16 + 16 = 32\n",
      "sum of : 18 + 18 = 36\n"
     ]
    }
   ],
   "source": [
    "# Write a program to print sum of first 10 even numbers\n",
    "i = 0\n",
    "while i < 20:\n",
    "    print(\"sum of :\",i,\"+\",i,\"=\",i+i)\n",
    "    i=i+2"
   ]
  },
  {
   "cell_type": "code",
   "execution_count": 64,
   "metadata": {},
   "outputs": [
    {
     "name": "stdout",
     "output_type": "stream",
     "text": [
      "12 x 1 = 12\n",
      "12 x 2 = 24\n",
      "12 x 3 = 36\n",
      "12 x 4 = 48\n",
      "12 x 5 = 60\n",
      "12 x 6 = 72\n",
      "12 x 7 = 84\n",
      "12 x 8 = 96\n",
      "12 x 9 = 108\n",
      "12 x 10 = 120\n"
     ]
    }
   ],
   "source": [
    "# Write a program to print table of a number entered from the usre \n",
    "number = int(input(\"Enter your number here :\"))\n",
    "count = 1\n",
    "while count<=10:\n",
    "    print(number, \"x\",count,\"=\",number*count)\n",
    "    count=count+1"
   ]
  },
  {
   "cell_type": "code",
   "execution_count": null,
   "metadata": {},
   "outputs": [],
   "source": []
  },
  {
   "cell_type": "code",
   "execution_count": null,
   "metadata": {},
   "outputs": [],
   "source": []
  }
 ],
 "metadata": {
  "kernelspec": {
   "display_name": "Python 3",
   "language": "python",
   "name": "python3"
  },
  "language_info": {
   "codemirror_mode": {
    "name": "ipython",
    "version": 3
   },
   "file_extension": ".py",
   "mimetype": "text/x-python",
   "name": "python",
   "nbconvert_exporter": "python",
   "pygments_lexer": "ipython3",
   "version": "3.9.4"
  },
  "orig_nbformat": 4,
  "vscode": {
   "interpreter": {
    "hash": "f85602ad7554ff4e01ddc9df6ddcaa249c7c8287d0f6830c0cc5c48008c19685"
   }
  }
 },
 "nbformat": 4,
 "nbformat_minor": 2
}
