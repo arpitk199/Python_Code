{
 "cells": [
  {
   "cell_type": "code",
   "execution_count": 1,
   "metadata": {},
   "outputs": [
    {
     "name": "stdout",
     "output_type": "stream",
     "text": [
      "2 x 1 = 2\n",
      "2 x 2 = 4\n",
      "2 x 3 = 6\n",
      "2 x 4 = 8\n",
      "2 x 5 = 10\n",
      "2 x 6 = 12\n",
      "2 x 7 = 14\n",
      "2 x 8 = 16\n",
      "2 x 9 = 18\n",
      "2 x 10 = 20\n"
     ]
    }
   ],
   "source": [
    "# Multiplication table\n",
    "num=int(input(\"Enter a number here :\"))\n",
    "for i in range(1,11):\n",
    "    print(num, \"x\",i,\"=\",num*i)"
   ]
  },
  {
   "cell_type": "code",
   "execution_count": 7,
   "metadata": {},
   "outputs": [
    {
     "name": "stdout",
     "output_type": "stream",
     "text": [
      "1 ** 2 = 1\n",
      "2 ** 2 = 4\n",
      "3 ** 2 = 9\n",
      "4 ** 2 = 16\n",
      "5 ** 2 = 25\n",
      "6 ** 2 = 36\n",
      "7 ** 2 = 49\n",
      "8 ** 2 = 64\n",
      "9 ** 2 = 81\n",
      "10 ** 2 = 100\n"
     ]
    }
   ],
   "source": [
    "# num=int(input(\"Enter a number here :\"))\n",
    "for i in range(1,11):\n",
    "    print(i, \"**\", 2, \"=\",i**2)\n"
   ]
  },
  {
   "cell_type": "code",
   "execution_count": 4,
   "metadata": {},
   "outputs": [
    {
     "name": "stdout",
     "output_type": "stream",
     "text": [
      "factorial of  5 is 120\n"
     ]
    }
   ],
   "source": [
    "# factorial\n",
    "num = int(input(\"Enter your number :\"))\n",
    "fact = 1\n",
    "for i in range(1,num + 1):\n",
    "    fact = fact*i\n",
    "print(\"factorial of \", num, \"is\", fact)"
   ]
  },
  {
   "cell_type": "code",
   "execution_count": null,
   "metadata": {},
   "outputs": [],
   "source": []
  }
 ],
 "metadata": {
  "kernelspec": {
   "display_name": "Python 3",
   "language": "python",
   "name": "python3"
  },
  "language_info": {
   "codemirror_mode": {
    "name": "ipython",
    "version": 3
   },
   "file_extension": ".py",
   "mimetype": "text/x-python",
   "name": "python",
   "nbconvert_exporter": "python",
   "pygments_lexer": "ipython3",
   "version": "3.9.4"
  },
  "orig_nbformat": 4,
  "vscode": {
   "interpreter": {
    "hash": "f85602ad7554ff4e01ddc9df6ddcaa249c7c8287d0f6830c0cc5c48008c19685"
   }
  }
 },
 "nbformat": 4,
 "nbformat_minor": 2
}
