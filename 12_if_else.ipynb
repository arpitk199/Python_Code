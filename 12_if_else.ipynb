{
 "cells": [
  {
   "cell_type": "code",
   "execution_count": 1,
   "metadata": {},
   "outputs": [
    {
     "name": "stdout",
     "output_type": "stream",
     "text": [
      "Kanpur\n"
     ]
    }
   ],
   "source": [
    "user = input(\"Choose a snd b\")\n",
    "\n",
    "if user == \"a\":\n",
    "    print(\"Kanpur\")\n",
    "else:\n",
    "    print(\"Lucknow\")"
   ]
  },
  {
   "cell_type": "code",
   "execution_count": 4,
   "metadata": {},
   "outputs": [
    {
     "name": "stdout",
     "output_type": "stream",
     "text": [
      "56 Even number\n"
     ]
    }
   ],
   "source": [
    "# odd even numbers\n",
    "num = int(input(\"Enter a number :\"))\n",
    "if (num % 2) == 0:\n",
    "    print(\"{0} Even number\".format(num))\n",
    "else:\n",
    "    print(\"{0} Odd number\".format(num))"
   ]
  },
  {
   "cell_type": "code",
   "execution_count": 18,
   "metadata": {},
   "outputs": [
    {
     "name": "stdout",
     "output_type": "stream",
     "text": [
      "-100000 Negative number :\n"
     ]
    }
   ],
   "source": [
    "# Positive and Negative number\n",
    "num = int(input(\"Enter a number\"))\n",
    "if num > 0:\n",
    "    print(\"{0} Positive number :\".format(num))\n",
    "else:\n",
    "    print(\"{0} Negative number :\".format(num)) "
   ]
  },
  {
   "cell_type": "code",
   "execution_count": 23,
   "metadata": {},
   "outputs": [
    {
     "name": "stdout",
     "output_type": "stream",
     "text": [
      "Both condition are true\n"
     ]
    }
   ],
   "source": [
    "a = 200\n",
    "b = 33\n",
    "c = 500\n",
    "if a > b and c > a:\n",
    "    print(\"Both condition are true\")"
   ]
  },
  {
   "cell_type": "code",
   "execution_count": 30,
   "metadata": {},
   "outputs": [
    {
     "name": "stdout",
     "output_type": "stream",
     "text": [
      "True\n"
     ]
    }
   ],
   "source": [
    "a = 500\n",
    "b = 56\n",
    "c = 500\n",
    "if a > b and a == c:\n",
    "    print(True)\n",
    "else:\n",
    "    print(False)"
   ]
  },
  {
   "cell_type": "code",
   "execution_count": null,
   "metadata": {},
   "outputs": [],
   "source": []
  }
 ],
 "metadata": {
  "kernelspec": {
   "display_name": "Python 3",
   "language": "python",
   "name": "python3"
  },
  "language_info": {
   "codemirror_mode": {
    "name": "ipython",
    "version": 3
   },
   "file_extension": ".py",
   "mimetype": "text/x-python",
   "name": "python",
   "nbconvert_exporter": "python",
   "pygments_lexer": "ipython3",
   "version": "3.9.4"
  },
  "orig_nbformat": 4,
  "vscode": {
   "interpreter": {
    "hash": "f85602ad7554ff4e01ddc9df6ddcaa249c7c8287d0f6830c0cc5c48008c19685"
   }
  }
 },
 "nbformat": 4,
 "nbformat_minor": 2
}
