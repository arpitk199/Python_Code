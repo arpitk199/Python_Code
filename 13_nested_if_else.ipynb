{
 "cells": [
  {
   "cell_type": "code",
   "execution_count": 2,
   "metadata": {},
   "outputs": [
    {
     "name": "stdout",
     "output_type": "stream",
     "text": [
      "Kindaly insert correct 4 digit pin\n"
     ]
    }
   ],
   "source": [
    "pin = input(\"Enter your 4 digit code\")\n",
    "if pin == \"5588\":\n",
    "    print(\"Welcome to State Bank of India :\")\n",
    "else:\n",
    "    print(\"Kindaly insert correct 4 digit pin\")"
   ]
  },
  {
   "cell_type": "code",
   "execution_count": 3,
   "metadata": {},
   "outputs": [
    {
     "name": "stdout",
     "output_type": "stream",
     "text": [
      "Welcome to State Bank of India :\n",
      "4500 Collect your Ammount\n"
     ]
    }
   ],
   "source": [
    "\n",
    "pin = input(\"Enter your 4 digit code\")\n",
    "if pin == \"5588\":\n",
    "    print(\"Welcome to State Bank of India :\")\n",
    "    balance = int(input(\"Enter your Ammount :\"))\n",
    "    if balance <= 50000:\n",
    "        print(\"{0} Collect your Ammount\".format(balance))\n",
    "    else:\n",
    "        print(\"Insufficiant Balance \")\n",
    "else:\n",
    "    print(\"Kindaly insert correct 4 digit pin\")"
   ]
  },
  {
   "cell_type": "code",
   "execution_count": 6,
   "metadata": {},
   "outputs": [
    {
     "name": "stdout",
     "output_type": "stream",
     "text": [
      "Kindaly insert correct 4 digit pin\n",
      "Contact Your Branch\n"
     ]
    }
   ],
   "source": [
    "pin = input(\"Enter your 4 digit code\")\n",
    "if pin == \"5588\":\n",
    "    print(\"Welcome to State Bank of India :\")\n",
    "    balance = int(input(\"Enter your Ammount :\"))\n",
    "    if balance <= 50000:\n",
    "        print(\"{0} Collect your Ammount\".format(balance))\n",
    "    else:\n",
    "        print(\"Insufficiant Balance \")\n",
    "else:\n",
    "    print(\"Kindaly insert correct 4 digit pin\")\n",
    "    pin2 = input(\"Please Re-enter your 4 digit pin\")\n",
    "    if pin2 == \"5588\":\n",
    "        print(\"Welcome to State Bank of India :\")\n",
    "    else:\n",
    "        print(\"Contact Your Branch\")"
   ]
  },
  {
   "cell_type": "code",
   "execution_count": 7,
   "metadata": {},
   "outputs": [
    {
     "name": "stdout",
     "output_type": "stream",
     "text": [
      "Kindaly insert correct 4 digit pin\n",
      "Welcome to State Bank of India :\n",
      "55 Collect your Ammount\n"
     ]
    }
   ],
   "source": [
    "pin = input(\"Enter your 4 digit code\")\n",
    "if pin == \"5588\":\n",
    "    print(\"Welcome to State Bank of India :\")\n",
    "    balance = int(input(\"Enter your Ammount :\"))\n",
    "    if balance <= 50000:\n",
    "        print(\"{0} Collect your Ammount\".format(balance))\n",
    "    else:\n",
    "        print(\"Insufficiant Balance \")\n",
    "else:\n",
    "    print(\"Kindaly insert correct 4 digit pin\")\n",
    "    pin2 = input(\"Please Re-enter your 4 digit pin\")\n",
    "    if pin2 == \"5588\":\n",
    "        print(\"Welcome to State Bank of India :\")\n",
    "        balance = int(input(\"Enter your Ammount :\"))\n",
    "        if balance <= 50000:\n",
    "            print(\"{0} Collect your Ammount\".format(balance))\n",
    "        else:\n",
    "            print(\"Insufficiant Balance \")\n",
    "    else:\n",
    "        print(\"Contact Your Branch\")"
   ]
  },
  {
   "cell_type": "code",
   "execution_count": null,
   "metadata": {},
   "outputs": [],
   "source": []
  }
 ],
 "metadata": {
  "kernelspec": {
   "display_name": "Python 3",
   "language": "python",
   "name": "python3"
  },
  "language_info": {
   "codemirror_mode": {
    "name": "ipython",
    "version": 3
   },
   "file_extension": ".py",
   "mimetype": "text/x-python",
   "name": "python",
   "nbconvert_exporter": "python",
   "pygments_lexer": "ipython3",
   "version": "3.9.4"
  },
  "orig_nbformat": 4,
  "vscode": {
   "interpreter": {
    "hash": "f85602ad7554ff4e01ddc9df6ddcaa249c7c8287d0f6830c0cc5c48008c19685"
   }
  }
 },
 "nbformat": 4,
 "nbformat_minor": 2
}
