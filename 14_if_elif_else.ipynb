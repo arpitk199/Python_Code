{
 "cells": [
  {
   "cell_type": "code",
   "execution_count": 7,
   "metadata": {},
   "outputs": [
    {
     "name": "stdout",
     "output_type": "stream",
     "text": [
      "23 * 34 = 782\n"
     ]
    }
   ],
   "source": [
    "num1 = int(input(\"Enter your First number :\"))\n",
    "num2 = int(input(\"Enter your Second number :\"))\n",
    "operation = (input(\"Enter your Operation +,-,/,* :\"))\n",
    "\n",
    "if operation == \"+\":\n",
    "    print(num1, \"+\" ,num2, \"=\",num1+num2)\n",
    "elif operation == \"-\":\n",
    "    print(num1, \"-\" ,num2, \"=\",num1-num2)\n",
    "elif operation == \"/\":\n",
    "    print(num1, \"/\" ,num2, \"=\",num1/num2)\n",
    "elif operation == \"*\":\n",
    "    print(num1, \"*\" ,num2, \"=\",num1*num2)\n",
    "else:\n",
    "    print(\"Please Enter Correct Operation :\")"
   ]
  },
  {
   "cell_type": "code",
   "execution_count": 35,
   "metadata": {},
   "outputs": [
    {
     "name": "stdout",
     "output_type": "stream",
     "text": [
      "400 is Greater than 30\n"
     ]
    }
   ],
   "source": [
    "num = int(input(\"Enter a number\"))\n",
    "if num <= 10:\n",
    "    print(\"{0} is Less than 10\".format(num))\n",
    "elif num >= 10 and num <= 20:\n",
    "    print(\"{0} is greater than 10 and less than 20\".format(num))\n",
    "elif num >= 20 and num <= 30:\n",
    "    print(\"{0} is greater than 20 and less than 30\".format(num))\n",
    "else:\n",
    "    print(\"{0} is Greater than 30\".format(num))"
   ]
  },
  {
   "cell_type": "code",
   "execution_count": null,
   "metadata": {},
   "outputs": [],
   "source": []
  }
 ],
 "metadata": {
  "kernelspec": {
   "display_name": "Python 3",
   "language": "python",
   "name": "python3"
  },
  "language_info": {
   "codemirror_mode": {
    "name": "ipython",
    "version": 3
   },
   "file_extension": ".py",
   "mimetype": "text/x-python",
   "name": "python",
   "nbconvert_exporter": "python",
   "pygments_lexer": "ipython3",
   "version": "3.9.4"
  },
  "orig_nbformat": 4,
  "vscode": {
   "interpreter": {
    "hash": "f85602ad7554ff4e01ddc9df6ddcaa249c7c8287d0f6830c0cc5c48008c19685"
   }
  }
 },
 "nbformat": 4,
 "nbformat_minor": 2
}
